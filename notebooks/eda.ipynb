{
 "cells": [
  {
   "cell_type": "code",
   "execution_count": 15,
   "id": "285dac64",
   "metadata": {},
   "outputs": [],
   "source": [
    "import pandas as pd \n",
    "import sqlite3\n",
    "import matplotlib.pyplot as plt\n",
    "import seaborn as sns\n",
    "from bs4 import BeautifulSoup\n",
    " "
   ]
  },
  {
   "cell_type": "code",
   "execution_count": 9,
   "id": "0ded3898",
   "metadata": {},
   "outputs": [
    {
     "name": "stdout",
     "output_type": "stream",
     "text": [
      "   id                                              title content summary  \\\n",
      "0   1  Why Crypto Adoption Stalled – And What Can Res...            None   \n",
      "1   2                                      TELUS Digital            None   \n",
      "2   3  DOGE, XRP, ETH, SOL Follow Bitcoin Through the...            None   \n",
      "3   4  What’s Next for Bitcoin With Crypto Market Che...            None   \n",
      "4   5  Bettors Lose Millions Predicting the New Pope ...            None   \n",
      "\n",
      "                                                 url        date  \n",
      "0  https://www.coindesk.com/sponsored-content/why...  2025-05-09  \n",
      "1   https://www.telusdigital.com/crypto-cx-solutions  2025-05-09  \n",
      "2  https://www.coindesk.com/markets/2025/05/09/fr...  2025-05-09  \n",
      "3  https://www.coindesk.com/markets/2025/05/08/wh...  2025-05-09  \n",
      "4  https://www.coindesk.com/markets/2025/05/09/be...  2025-05-09  \n",
      "id           0\n",
      "title        0\n",
      "content      0\n",
      "summary    415\n",
      "url          0\n",
      "date        16\n",
      "dtype: int64\n"
     ]
    }
   ],
   "source": [
    "conn=sqlite3.connect(\"../data/articles.db\")\n",
    "df=pd.read_sql(\"SELECT * FROM articles\", conn)\n",
    "\n",
    "conn.close()\n",
    "\n",
    "print(df.head())\n",
    "print(df.isnull().sum())"
   ]
  },
  {
   "cell_type": "code",
   "execution_count": 11,
   "id": "e1bb8366",
   "metadata": {},
   "outputs": [
    {
     "data": {
      "application/vnd.microsoft.datawrangler.viewer.v0+json": {
       "columns": [
        {
         "name": "index",
         "rawType": "object",
         "type": "string"
        },
        {
         "name": "0",
         "rawType": "int64",
         "type": "integer"
        }
       ],
       "ref": "52075ea7-2d8e-414e-ac4e-d2707a8fefe8",
       "rows": [
        [
         "id",
         "0"
        ],
        [
         "title",
         "0"
        ],
        [
         "content",
         "157"
        ],
        [
         "summary",
         "415"
        ],
        [
         "url",
         "0"
        ],
        [
         "date",
         "16"
        ]
       ],
       "shape": {
        "columns": 1,
        "rows": 6
       }
      },
      "text/plain": [
       "id           0\n",
       "title        0\n",
       "content    157\n",
       "summary    415\n",
       "url          0\n",
       "date        16\n",
       "dtype: int64"
      ]
     },
     "execution_count": 11,
     "metadata": {},
     "output_type": "execute_result"
    }
   ],
   "source": [
    "df.replace(['', ' ', 'NaN', 'nan'], pd.NA, inplace=True)\n",
    "df.isnull().sum()"
   ]
  },
  {
   "cell_type": "code",
   "execution_count": 12,
   "id": "d8b0e4b8",
   "metadata": {},
   "outputs": [
    {
     "name": "stdout",
     "output_type": "stream",
     "text": [
      "<class 'pandas.core.frame.DataFrame'>\n",
      "RangeIndex: 415 entries, 0 to 414\n",
      "Data columns (total 6 columns):\n",
      " #   Column   Non-Null Count  Dtype \n",
      "---  ------   --------------  ----- \n",
      " 0   id       415 non-null    int64 \n",
      " 1   title    415 non-null    object\n",
      " 2   content  258 non-null    object\n",
      " 3   summary  0 non-null      object\n",
      " 4   url      415 non-null    object\n",
      " 5   date     399 non-null    object\n",
      "dtypes: int64(1), object(5)\n",
      "memory usage: 19.6+ KB\n"
     ]
    }
   ],
   "source": [
    "df.info()"
   ]
  },
  {
   "cell_type": "code",
   "execution_count": 13,
   "id": "c37d00bc",
   "metadata": {},
   "outputs": [],
   "source": [
    "df=df.drop_duplicates(subset='title').reset_index(drop=True)"
   ]
  },
  {
   "cell_type": "code",
   "execution_count": 14,
   "id": "f4512aa9",
   "metadata": {},
   "outputs": [
    {
     "name": "stdout",
     "output_type": "stream",
     "text": [
      "<class 'pandas.core.frame.DataFrame'>\n",
      "RangeIndex: 227 entries, 0 to 226\n",
      "Data columns (total 6 columns):\n",
      " #   Column   Non-Null Count  Dtype \n",
      "---  ------   --------------  ----- \n",
      " 0   id       227 non-null    int64 \n",
      " 1   title    227 non-null    object\n",
      " 2   content  183 non-null    object\n",
      " 3   summary  0 non-null      object\n",
      " 4   url      227 non-null    object\n",
      " 5   date     211 non-null    object\n",
      "dtypes: int64(1), object(5)\n",
      "memory usage: 10.8+ KB\n"
     ]
    }
   ],
   "source": [
    "df.info()"
   ]
  },
  {
   "cell_type": "code",
   "execution_count": 17,
   "id": "bbbbd778",
   "metadata": {},
   "outputs": [
    {
     "data": {
      "image/png": "[encoded data removed]",
      "text/plain": [
       "<Figure size 640x480 with 1 Axes>"
      ]
     },
     "metadata": {},
     "output_type": "display_data"
    }
   ],
   "source": [
    "df['content_length']=df['content'].str.len()\n",
    "sns.histplot(df['content_length'],bins=50)\n",
    "\n",
    "plt.title('Distribution de la longueur des articles')\n",
    "plt.show()\n"
   ]
  }
 ],
 "metadata": {
  "kernelspec": {
   "display_name": "venv",
   "language": "python",
   "name": "python3"
  },
  "language_info": {
   "codemirror_mode": {
    "name": "ipython",
    "version": 3
   },
   "file_extension": ".py",
   "mimetype": "text/x-python",
   "name": "python",
   "nbconvert_exporter": "python",
   "pygments_lexer": "ipython3",
   "version": "3.12.3"
  }
 },
 "nbformat": 4,
 "nbformat_minor": 5
}
